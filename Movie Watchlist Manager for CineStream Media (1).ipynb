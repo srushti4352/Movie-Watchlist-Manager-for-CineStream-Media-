{
 "cells": [
  {
   "cell_type": "code",
   "execution_count": 2,
   "id": "a53d78dd-5ea2-4313-9492-7c02409ef9ff",
   "metadata": {},
   "outputs": [],
   "source": [
    "import pandas as pd\n"
   ]
  },
  {
   "cell_type": "code",
   "execution_count": 3,
   "id": "d5e14c43-9d94-41f3-8d50-41b993d9bfe9",
   "metadata": {},
   "outputs": [],
   "source": [
    "# Dictionary to store movie details\n",
    "watchlist = {}\n",
    "\n",
    "# Set to store unique titles\n",
    "unique_titles = set()\n"
   ]
  },
  {
   "cell_type": "code",
   "execution_count": 4,
   "id": "3c38fd69-78ff-46ac-b440-30b092de44e8",
   "metadata": {},
   "outputs": [],
   "source": [
    "def add_movie(title, genres, rating):\n",
    "    if title in unique_titles:\n",
    "        print(\"❌ Movie already exists in the watchlist.\")\n",
    "        return\n",
    "    if not (0 <= rating <= 10):\n",
    "        print(\"❌ Invalid rating! Please enter a rating between 0 and 10.\")\n",
    "        return\n",
    "    \n",
    "    # Add movie to dictionary\n",
    "    watchlist[title] = {\n",
    "        \"Title\": title,\n",
    "        \"Genres\": genres,\n",
    "        \"Rating\": rating\n",
    "    }\n",
    "    unique_titles.add(title)\n",
    "    print(f\"✅ Movie '{title}' added successfully.\")\n"
   ]
  },
  {
   "cell_type": "code",
   "execution_count": 5,
   "id": "11d38fba-7cba-4c92-9dca-0399fcc86b10",
   "metadata": {},
   "outputs": [],
   "source": [
    "def remove_movie(title):\n",
    "    if title in watchlist:\n",
    "        del watchlist[title]\n",
    "        unique_titles.remove(title)\n",
    "        print(f\"🗑️ Movie '{title}' removed.\")\n",
    "    else:\n",
    "        print(\"❌ Movie not found in watchlist.\")\n"
   ]
  },
  {
   "cell_type": "code",
   "execution_count": 10,
   "id": "edee60cb-5da9-4243-aac0-e8786882d86c",
   "metadata": {},
   "outputs": [
    {
     "ename": "NameError",
     "evalue": "name 'add_movie' is not defined",
     "output_type": "error",
     "traceback": [
      "\u001b[31m---------------------------------------------------------------------------\u001b[39m",
      "\u001b[31mNameError\u001b[39m                                 Traceback (most recent call last)",
      "\u001b[36mCell\u001b[39m\u001b[36m \u001b[39m\u001b[32mIn[10]\u001b[39m\u001b[32m, line 1\u001b[39m\n\u001b[32m----> \u001b[39m\u001b[32m1\u001b[39m \u001b[43madd_movie\u001b[49m(\u001b[33m\"\u001b[39m\u001b[33mThe Matrix\u001b[39m\u001b[33m\"\u001b[39m, [\u001b[33m\"\u001b[39m\u001b[33mAction\u001b[39m\u001b[33m\"\u001b[39m, \u001b[33m\"\u001b[39m\u001b[33mSci-Fi\u001b[39m\u001b[33m\"\u001b[39m], \u001b[32m8.7\u001b[39m)\n\u001b[32m      2\u001b[39m add_movie(\u001b[33m\"\u001b[39m\u001b[33mAvatar\u001b[39m\u001b[33m\"\u001b[39m, [\u001b[33m\"\u001b[39m\u001b[33mAdventure\u001b[39m\u001b[33m\"\u001b[39m, \u001b[33m\"\u001b[39m\u001b[33mFantasy\u001b[39m\u001b[33m\"\u001b[39m], \u001b[32m8.0\u001b[39m)\n\u001b[32m      3\u001b[39m show_watchlist()\n",
      "\u001b[31mNameError\u001b[39m: name 'add_movie' is not defined"
     ]
    }
   ],
   "source": [
    "add_movie(\"The Matrix\", [\"Action\", \"Sci-Fi\"], 8.7)\n",
    "add_movie(\"Avatar\", [\"Adventure\", \"Fantasy\"], 8.0)\n",
    "show_watchlist()\n"
   ]
  },
  {
   "cell_type": "code",
   "execution_count": null,
   "id": "975fd8ce-4303-44de-8c79-f14efff07171",
   "metadata": {},
   "outputs": [],
   "source": []
  }
 ],
 "metadata": {
  "kernelspec": {
   "display_name": "Python 3 (ipykernel)",
   "language": "python",
   "name": "python3"
  },
  "language_info": {
   "codemirror_mode": {
    "name": "ipython",
    "version": 3
   },
   "file_extension": ".py",
   "mimetype": "text/x-python",
   "name": "python",
   "nbconvert_exporter": "python",
   "pygments_lexer": "ipython3",
   "version": "3.13.5"
  }
 },
 "nbformat": 4,
 "nbformat_minor": 5
}
